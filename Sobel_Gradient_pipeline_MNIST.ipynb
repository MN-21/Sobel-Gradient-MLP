{
  "cells": [
    {
      "cell_type": "markdown",
      "metadata": {
        "id": "view-in-github",
        "colab_type": "text"
      },
      "source": [
        "<a href=\"https://colab.research.google.com/github/MN-21/handwriting-dnn-features/blob/main/Sobel_Gradient_pipeline_MNIST.ipynb\" target=\"_parent\"><img src=\"https://colab.research.google.com/assets/colab-badge.svg\" alt=\"Open In Colab\"/></a>"
      ]
    },
    {
      "cell_type": "code",
      "execution_count": null,
      "metadata": {
        "colab": {
          "base_uri": "https://localhost:8080/",
          "height": 1000,
          "referenced_widgets": [
            "81108c31df624f8189fddffbf308247e",
            "92c9670d14d644828f4e5868e5203be7",
            "26b58eeb5ced44ec851e4ca87d7fce4e",
            "e61a75cb9601463580a6167a6a26a2c3",
            "3ec7023cccc74a73b2d5c48f60976c9e",
            "44c752f052a1406d85cf1e816a70a1ec",
            "55ad895b6ddb4bd997df7cf726fce4c4",
            "1478f5390ca145099fea2b952e48f166",
            "d34a8ccdf3394fbf810ed6753d8f9547",
            "41d7d4a62a6c40eba3193a8f8e22c0bb",
            "7f7ce3efe86547ff93d1ae95c29a9643",
            "5a45ab1952314443904a18b925ed21b3",
            "2735279544e241aa88156b6822dc5368",
            "d8c2270caa664b5ab362e655222f4b0c",
            "012e0eb9b8d544e59bdc1cce4c789f2a",
            "3cd8b25b6b784d37b3784b96ac3212dd",
            "9d60d41ac3104fa7ba532ed3b061dbf4",
            "0825ccf268b4411fac93d9129b1ac950",
            "c7496eaeb0704c3eb93ebb2157020696",
            "6c93f9d9523a4edf8f1f09c0e3ecae84",
            "74b60b334f2f4999b71c57854ad0a5a4",
            "1f10300a3cb1451993d13202546140f4",
            "475db86aaa7245af8053cc8facaca80b",
            "eea17b853fab41f6839170b6cacf154f",
            "a68d7fe34eb04955ad1c1140e5eed906",
            "88eabfa91b074d5c82191f53f151fcab",
            "b727c8828f53480a9ebb82c2a625a07f",
            "91067196bb9543b688c5dac53f52a936",
            "ee93c2a73610414091796bb5b176b670",
            "364b606e9c61417b9e7c1111088a2115",
            "33546e7bfe9c474c932ed1c0da10d021",
            "9478ca67574747fd97413c25bc53bf5c",
            "952070d9d0ad4cef8d8171dd0b1657d1",
            "25491e750f1f4b34821b309947124f33",
            "5af0451a4e584f91a18ba23eb850be45",
            "c7aa8156e98f4cc0a4a11abaad34c071",
            "225c6a14831a4acd9bcbfa187025cb9e",
            "c5b9ad23b8da4c05882b94182f8d8a9a",
            "1a71cea521ca4d5fbe4109f9d2613acf",
            "1d98f37b215a4ab98563dcb72d5e6179",
            "7f27480744234aae9e9f659d7b13261e",
            "f4f6223243374c88b552d1dc3fa41c31",
            "5e87ea3d5ca7439a92a66acf44550005",
            "353a90d82d3644e2b2414c8ab9765b3c",
            "afee3ff4e76c4215a25b787086c1f79e",
            "a95e363f22c54f99853f6e9c73a6389d",
            "9f9971cada88405094b9337ac0b47443",
            "9aadec8aeb6c4cf09c323a56eecafb2d",
            "a1329506efb4471d94f7fe55f4579ceb",
            "346cf165939b460b82e6a602353cfb63",
            "dfd41a536d9244e991c06aa5cab333f8",
            "8a9bdf49313f4eb7806dc1332669f341",
            "3c229256fe5444c690fbbd05b5c1b351",
            "28b849f5be944b728fbd2ea6bb5fb9ac",
            "7020d6192eba4c288e173b3cf708dc67",
            "14ccc27fde094913ba055d11465318c7",
            "ffb115adc8954205a52f6f821401ca70",
            "37c27454889444afa072b276b48b170a",
            "5b195f1a489e44d7bb8c69667c58867a",
            "1e7e947718b24477a1ed66004fe442ec",
            "ec48c6a84ec948aeb9f6c7e9ab835183",
            "2741dea8d05740c59738fb7cb8a8edc7",
            "c4c590a4f0744eacad18e442848293c9",
            "77b6f5f92f424843b0b3952a128e5cde",
            "cc1e5b5cfe7b45b494bbefa1f1b79732",
            "6727aa932ac646ff94a6db71df48f993",
            "531c72737ff845e19c24565191146062",
            "e9bf9ad3cf3a4c9ca8bccdb468415893",
            "c1c3688caf314bafb18f7091da716c3f",
            "d04bb02e242148058d73b8b17ac7bc23",
            "5a5a6d64f10a41eb94f75da3166e04c4",
            "5e4db23318474026be55095e3e5091c1",
            "52fd41a81d4946e6986a26da86dd85a4",
            "258d36630f074c399ffc13b3b6d98564",
            "78d6bcdecc124ed5ab7d7f5552b0df1f",
            "24eb0a8ac82c478aad8fa9b7bb073921",
            "661908824b9a4c4fb3f509f01c972dbd",
            "d85474a645bc41ae9e4a4304d07a84f7",
            "df8699c3791a4c019c866ee35c30028c",
            "21d9299a27e440db9418454992678d81",
            "83e9d4cc04ca46c7a4fdcf5dde8c8d27",
            "d056e0ecb423425cad9386703e32a1d0",
            "bbc65d955ea7494f98f92d398f733879",
            "39b98651c37e40cf9925f1706cc7c0d8",
            "dffd92493cf94c848ef04b2a47ea3ab7",
            "cf85cba3a04f4aeab9903e0e0dc157bc",
            "a6e9df34687843bbb4490f07c0d6f700",
            "78005fa6ccca433f9953e38d42ce9d0a"
          ]
        },
        "id": "ohtQiM309N0h",
        "outputId": "adf4d8a6-6b9a-4cf3-8e54-c5a75e78656a"
      },
      "outputs": [
        {
          "name": "stderr",
          "output_type": "stream",
          "text": [
            "WARNING:absl:Variant folder /root/tensorflow_datasets/mnist/3.0.1 has no dataset_info.json\n"
          ]
        },
        {
          "name": "stdout",
          "output_type": "stream",
          "text": [
            "Downloading and preparing dataset Unknown size (download: Unknown size, generated: Unknown size, total: Unknown size) to /root/tensorflow_datasets/mnist/3.0.1...\n"
          ]
        },
        {
          "data": {
            "application/vnd.jupyter.widget-view+json": {
              "model_id": "81108c31df624f8189fddffbf308247e",
              "version_major": 2,
              "version_minor": 0
            },
            "text/plain": [
              "Dl Completed...: 0 url [00:00, ? url/s]"
            ]
          },
          "metadata": {},
          "output_type": "display_data"
        },
        {
          "data": {
            "application/vnd.jupyter.widget-view+json": {
              "model_id": "5a45ab1952314443904a18b925ed21b3",
              "version_major": 2,
              "version_minor": 0
            },
            "text/plain": [
              "Dl Size...: 0 MiB [00:00, ? MiB/s]"
            ]
          },
          "metadata": {},
          "output_type": "display_data"
        },
        {
          "data": {
            "application/vnd.jupyter.widget-view+json": {
              "model_id": "475db86aaa7245af8053cc8facaca80b",
              "version_major": 2,
              "version_minor": 0
            },
            "text/plain": [
              "Extraction completed...: 0 file [00:00, ? file/s]"
            ]
          },
          "metadata": {},
          "output_type": "display_data"
        },
        {
          "data": {
            "application/vnd.jupyter.widget-view+json": {
              "model_id": "25491e750f1f4b34821b309947124f33",
              "version_major": 2,
              "version_minor": 0
            },
            "text/plain": [
              "Generating splits...:   0%|          | 0/2 [00:00<?, ? splits/s]"
            ]
          },
          "metadata": {},
          "output_type": "display_data"
        },
        {
          "data": {
            "application/vnd.jupyter.widget-view+json": {
              "model_id": "afee3ff4e76c4215a25b787086c1f79e",
              "version_major": 2,
              "version_minor": 0
            },
            "text/plain": [
              "Generating train examples...: 0 examples [00:00, ? examples/s]"
            ]
          },
          "metadata": {},
          "output_type": "display_data"
        },
        {
          "data": {
            "application/vnd.jupyter.widget-view+json": {
              "model_id": "14ccc27fde094913ba055d11465318c7",
              "version_major": 2,
              "version_minor": 0
            },
            "text/plain": [
              "Shuffling /root/tensorflow_datasets/mnist/incomplete.PQA7HF_3.0.1/mnist-train.tfrecord*...:   0%|          | 0…"
            ]
          },
          "metadata": {},
          "output_type": "display_data"
        },
        {
          "data": {
            "application/vnd.jupyter.widget-view+json": {
              "model_id": "531c72737ff845e19c24565191146062",
              "version_major": 2,
              "version_minor": 0
            },
            "text/plain": [
              "Generating test examples...: 0 examples [00:00, ? examples/s]"
            ]
          },
          "metadata": {},
          "output_type": "display_data"
        },
        {
          "data": {
            "application/vnd.jupyter.widget-view+json": {
              "model_id": "d85474a645bc41ae9e4a4304d07a84f7",
              "version_major": 2,
              "version_minor": 0
            },
            "text/plain": [
              "Shuffling /root/tensorflow_datasets/mnist/incomplete.PQA7HF_3.0.1/mnist-test.tfrecord*...:   0%|          | 0/…"
            ]
          },
          "metadata": {},
          "output_type": "display_data"
        },
        {
          "name": "stdout",
          "output_type": "stream",
          "text": [
            "Dataset mnist downloaded and prepared to /root/tensorflow_datasets/mnist/3.0.1. Subsequent calls will reuse this data.\n"
          ]
        },
        {
          "name": "stderr",
          "output_type": "stream",
          "text": [
            "Computing gradients: 100%|██████████| 56000/56000 [00:02<00:00, 24304.48it/s]\n",
            "Computing gradients: 100%|██████████| 14000/14000 [00:00<00:00, 18679.81it/s]\n"
          ]
        },
        {
          "name": "stdout",
          "output_type": "stream",
          "text": [
            "Epoch 1/50\n",
            "394/394 - 19s - 48ms/step - accuracy: 0.8886 - loss: 0.3662 - val_accuracy: 0.5509 - val_loss: 2.1708 - learning_rate: 1.0000e-03\n",
            "Epoch 2/50\n",
            "394/394 - 15s - 39ms/step - accuracy: 0.9469 - loss: 0.1760 - val_accuracy: 0.6477 - val_loss: 1.8559 - learning_rate: 1.0000e-03\n",
            "Epoch 3/50\n",
            "394/394 - 16s - 40ms/step - accuracy: 0.9587 - loss: 0.1338 - val_accuracy: 0.5071 - val_loss: 2.3769 - learning_rate: 1.0000e-03\n",
            "Epoch 4/50\n",
            "394/394 - 21s - 53ms/step - accuracy: 0.9650 - loss: 0.1127 - val_accuracy: 0.6488 - val_loss: 1.5042 - learning_rate: 1.0000e-03\n",
            "Epoch 5/50\n",
            "394/394 - 16s - 41ms/step - accuracy: 0.9691 - loss: 0.0982 - val_accuracy: 0.2082 - val_loss: 6.5478 - learning_rate: 1.0000e-03\n",
            "Epoch 6/50\n",
            "394/394 - 16s - 40ms/step - accuracy: 0.9727 - loss: 0.0865 - val_accuracy: 0.6273 - val_loss: 1.7502 - learning_rate: 1.0000e-03\n",
            "Epoch 7/50\n",
            "\n",
            "Epoch 7: ReduceLROnPlateau reducing learning rate to 0.0005000000237487257.\n",
            "394/394 - 16s - 41ms/step - accuracy: 0.9754 - loss: 0.0746 - val_accuracy: 0.5625 - val_loss: 1.7469 - learning_rate: 1.0000e-03\n",
            "Epoch 8/50\n",
            "394/394 - 20s - 52ms/step - accuracy: 0.9807 - loss: 0.0606 - val_accuracy: 0.7679 - val_loss: 0.9455 - learning_rate: 5.0000e-04\n",
            "Epoch 9/50\n",
            "394/394 - 21s - 53ms/step - accuracy: 0.9840 - loss: 0.0502 - val_accuracy: 0.9330 - val_loss: 0.2172 - learning_rate: 5.0000e-04\n",
            "Epoch 10/50\n",
            "394/394 - 17s - 42ms/step - accuracy: 0.9841 - loss: 0.0487 - val_accuracy: 0.4888 - val_loss: 3.2458 - learning_rate: 5.0000e-04\n",
            "Epoch 11/50\n",
            "394/394 - 16s - 40ms/step - accuracy: 0.9853 - loss: 0.0441 - val_accuracy: 0.8379 - val_loss: 0.6499 - learning_rate: 5.0000e-04\n",
            "Epoch 12/50\n",
            "\n",
            "Epoch 12: ReduceLROnPlateau reducing learning rate to 0.0002500000118743628.\n",
            "394/394 - 20s - 52ms/step - accuracy: 0.9859 - loss: 0.0407 - val_accuracy: 0.7779 - val_loss: 0.8426 - learning_rate: 5.0000e-04\n",
            "Epoch 13/50\n",
            "394/394 - 15s - 38ms/step - accuracy: 0.9889 - loss: 0.0340 - val_accuracy: 0.9725 - val_loss: 0.0977 - learning_rate: 2.5000e-04\n",
            "Epoch 14/50\n",
            "394/394 - 14s - 36ms/step - accuracy: 0.9901 - loss: 0.0284 - val_accuracy: 0.9752 - val_loss: 0.0888 - learning_rate: 2.5000e-04\n",
            "Epoch 15/50\n",
            "394/394 - 14s - 36ms/step - accuracy: 0.9905 - loss: 0.0279 - val_accuracy: 0.9677 - val_loss: 0.1239 - learning_rate: 2.5000e-04\n",
            "Epoch 16/50\n",
            "394/394 - 21s - 53ms/step - accuracy: 0.9917 - loss: 0.0254 - val_accuracy: 0.9761 - val_loss: 0.0889 - learning_rate: 2.5000e-04\n",
            "Epoch 17/50\n",
            "394/394 - 20s - 52ms/step - accuracy: 0.9908 - loss: 0.0266 - val_accuracy: 0.9770 - val_loss: 0.0841 - learning_rate: 2.5000e-04\n",
            "Epoch 18/50\n",
            "394/394 - 20s - 52ms/step - accuracy: 0.9923 - loss: 0.0233 - val_accuracy: 0.9712 - val_loss: 0.1060 - learning_rate: 2.5000e-04\n",
            "Epoch 19/50\n",
            "394/394 - 21s - 53ms/step - accuracy: 0.9925 - loss: 0.0227 - val_accuracy: 0.9359 - val_loss: 0.2305 - learning_rate: 2.5000e-04\n",
            "Epoch 20/50\n",
            "\n",
            "Epoch 20: ReduceLROnPlateau reducing learning rate to 0.0001250000059371814.\n",
            "394/394 - 20s - 50ms/step - accuracy: 0.9926 - loss: 0.0227 - val_accuracy: 0.9191 - val_loss: 0.2916 - learning_rate: 2.5000e-04\n",
            "Epoch 21/50\n",
            "394/394 - 14s - 36ms/step - accuracy: 0.9933 - loss: 0.0200 - val_accuracy: 0.9754 - val_loss: 0.0978 - learning_rate: 1.2500e-04\n",
            "Epoch 21: early stopping\n",
            "Restoring model weights from the end of the best epoch: 17.\n",
            "438/438 - 2s - 5ms/step - accuracy: 0.9775 - loss: 0.0836\n",
            "\n",
            "MNIST Sobel-Gradient MLP\n",
            "Test Accuracy   : 97.75%\n",
            "Training Time   : 379.4s\n",
            "Inference Time  : 2.2s for 14000 samples\n"
          ]
        }
      ],
      "source": [
        "# Install dependencies\n",
        "!pip install --quiet tensorflow tensorflow-datasets opencv-python tqdm scikit-learn\n",
        "\n",
        "import cv2\n",
        "import time\n",
        "import numpy as np\n",
        "import tensorflow as tf\n",
        "import tensorflow_datasets as tfds\n",
        "from tensorflow.keras import layers, models, callbacks\n",
        "from sklearn.model_selection import train_test_split\n",
        "from tqdm import tqdm\n",
        "\n",
        "# 1. Sobel feature extractor (full-image gradients)\n",
        "def compute_gradients(images):\n",
        "    \"\"\"\n",
        "    Given a NumPy array of shape (N,28,28), returns\n",
        "    an array of shape (N, 2, 28, 28) containing normalized gx, gy.\n",
        "    \"\"\"\n",
        "    N = images.shape[0]\n",
        "    grads = np.zeros((N, 2, 28, 28), dtype=np.float32)\n",
        "    for i, img in enumerate(tqdm(images, desc=\"Computing gradients\")):\n",
        "        gx = cv2.Sobel(img, cv2.CV_32F, 1, 0, ksize=3)\n",
        "        gy = cv2.Sobel(img, cv2.CV_32F, 0, 1, ksize=3)\n",
        "        # normalize each to [0,1]\n",
        "        gx = (gx - gx.min()) / (gx.max() - gx.min() + 1e-8)\n",
        "        gy = (gy - gy.min()) / (gy.max() - gy.min() + 1e-8)\n",
        "        grads[i,0] = gx\n",
        "        grads[i,1] = gy\n",
        "    return grads\n",
        "\n",
        "# 2. Load MNIST via TFDS\n",
        "(ds_train, ds_test), ds_info = tfds.load(\n",
        "    'mnist',\n",
        "    split=['train', 'test'],\n",
        "    as_supervised=True,\n",
        "    with_info=True\n",
        ")\n",
        "\n",
        "# 3. Convert to NumPy arrays\n",
        "all_images = []\n",
        "all_labels = []\n",
        "for img, lbl in tfds.as_numpy(ds_train.concatenate(ds_test)):\n",
        "    all_images.append(img.squeeze())  # shape (28,28)\n",
        "    all_labels.append(int(lbl))       # labels 0–9\n",
        "all_images = np.stack(all_images)    # (70000,28,28)\n",
        "all_labels = np.array(all_labels, dtype=int)\n",
        "\n",
        "# 4. Stratified 80/20 train/test split\n",
        "X_train, X_test, y_train, y_test = train_test_split(\n",
        "    all_images, all_labels,\n",
        "    train_size=0.8,\n",
        "    stratify=all_labels,\n",
        "    random_state=42\n",
        ")\n",
        "\n",
        "# 5. Compute Sobel gradient features\n",
        "grad_train = compute_gradients(X_train)\n",
        "grad_test  = compute_gradients(X_test)\n",
        "\n",
        "# 6. Flatten to feature vectors (2*28*28 = 1568 dims)\n",
        "X_train_feat = grad_train.reshape(-1, 2*28*28)\n",
        "X_test_feat  = grad_test.reshape(-1, 2*28*28)\n",
        "\n",
        "# 7. Build MLP model for 10 classes\n",
        "model = models.Sequential([\n",
        "    layers.Input(shape=(2*28*28,)),\n",
        "    layers.Dense(1024), layers.BatchNormalization(), layers.Activation('relu'),\n",
        "    layers.Dropout(0.5),\n",
        "\n",
        "    layers.Dense(512), layers.BatchNormalization(), layers.Activation('relu'),\n",
        "    layers.Dropout(0.4),\n",
        "\n",
        "    layers.Dense(256), layers.BatchNormalization(), layers.Activation('relu'),\n",
        "    layers.Dropout(0.3),\n",
        "\n",
        "    layers.Dense(10, activation='softmax')  # 10 output classes for MNIST digits\n",
        "])\n",
        "\n",
        "model.compile(\n",
        "    optimizer='adam',\n",
        "    loss='sparse_categorical_crossentropy',\n",
        "    metrics=['accuracy']\n",
        ")\n",
        "\n",
        "# 8. Callbacks\n",
        "es = callbacks.EarlyStopping(\n",
        "    monitor='val_accuracy', patience=4,\n",
        "    restore_best_weights=True, verbose=1\n",
        ")\n",
        "rlr = callbacks.ReduceLROnPlateau(\n",
        "    monitor='val_loss', factor=0.5,\n",
        "    patience=3, min_lr=1e-6, verbose=1\n",
        ")\n",
        "\n",
        "# 9. Train\n",
        "t0 = time.time()\n",
        "history = model.fit(\n",
        "    X_train_feat, y_train,\n",
        "    validation_split=0.1,\n",
        "    epochs=50,\n",
        "    batch_size=128,\n",
        "    callbacks=[es, rlr],\n",
        "    verbose=2\n",
        ")\n",
        "train_time = time.time() - t0\n",
        "\n",
        "# 10. Evaluate\n",
        "t1 = time.time()\n",
        "test_loss, test_acc = model.evaluate(X_test_feat, y_test, verbose=2)\n",
        "infer_time = time.time() - t1\n",
        "\n",
        "# 11. Report\n",
        "print(f\"\\nMNIST Sobel-Gradient MLP\")\n",
        "print(f\"Test Accuracy   : {test_acc*100:.2f}%\")\n",
        "print(f\"Training Time   : {train_time:.1f}s\")\n",
        "print(f\"Inference Time  : {infer_time:.1f}s for {X_test_feat.shape[0]} samples\")\n"
      ]
    }
  ],
  "metadata": {
    "colab": {
      "provenance": [],
      "include_colab_link": true
    },
    "kernelspec": {
      "display_name": "Python 3",
      "name": "python3"
    },
    "language_info": {
      "name": "python"
    }
  },
  "nbformat": 4,
  "nbformat_minor": 0
}